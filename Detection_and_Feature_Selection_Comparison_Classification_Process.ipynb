{
  "nbformat": 4,
  "nbformat_minor": 0,
  "metadata": {
    "colab": {
      "provenance": [],
      "authorship_tag": "ABX9TyMYe9LQqvUizGZkC+iVYf9g",
      "include_colab_link": true
    },
    "kernelspec": {
      "name": "python3",
      "display_name": "Python 3"
    },
    "language_info": {
      "name": "python"
    }
  },
  "cells": [
    {
      "cell_type": "markdown",
      "metadata": {
        "id": "view-in-github",
        "colab_type": "text"
      },
      "source": [
        "<a href=\"https://colab.research.google.com/github/rodriguessdeyson/feature-comparison/blob/master-artefacts/Detection_and_Feature_Selection_Comparison_Classification_Process.ipynb\" target=\"_parent\"><img src=\"https://colab.research.google.com/assets/colab-badge.svg\" alt=\"Open In Colab\"/></a>"
      ]
    },
    {
      "cell_type": "code",
      "source": [
        "import pandas as pd\n",
        "from sklearn.neighbors import KNeighborsClassifier\n",
        "from sklearn.model_selection import train_test_split\n",
        "from sklearn.metrics import accuracy_score\n",
        "from sklearn.metrics import classification_report\n",
        "from google.colab import drive\n",
        "import os\n",
        "from sklearn.metrics import confusion_matrix\n",
        "from sklearn.utils import shuffle\n",
        "\n",
        "# Incializa o serviço do Google Drive.\n",
        "drive.mount('/content/drive')"
      ],
      "metadata": {
        "colab": {
          "base_uri": "https://localhost:8080/"
        },
        "id": "UkmeOvGRrU1E",
        "outputId": "0f58e534-b72c-4427-c2f9-3b343a23ba5b"
      },
      "execution_count": null,
      "outputs": [
        {
          "output_type": "stream",
          "name": "stdout",
          "text": [
            "Drive already mounted at /content/drive; to attempt to forcibly remount, call drive.mount(\"/content/drive\", force_remount=True).\n"
          ]
        }
      ]
    },
    {
      "cell_type": "markdown",
      "source": [
        "#KNN"
      ],
      "metadata": {
        "id": "JMwtebzxqxrc"
      }
    },
    {
      "cell_type": "code",
      "execution_count": null,
      "metadata": {
        "colab": {
          "base_uri": "https://localhost:8080/"
        },
        "id": "UrN_kHbjqbs5",
        "outputId": "ebce6b34-68f5-4d34-e30f-e34ca399d6fa"
      },
      "outputs": [
        {
          "output_type": "stream",
          "name": "stdout",
          "text": [
            "Accuracy: 0.98\n",
            "              precision    recall  f1-score   support\n",
            "\n",
            "           0       1.00      1.00      1.00        15\n",
            "           1       1.00      1.00      1.00        16\n",
            "           2       1.00      0.93      0.97        15\n",
            "           3       0.93      1.00      0.96        13\n",
            "\n",
            "    accuracy                           0.98        59\n",
            "   macro avg       0.98      0.98      0.98        59\n",
            "weighted avg       0.98      0.98      0.98        59\n",
            "\n"
          ]
        }
      ],
      "source": [
        "# Load your CSV file into a DataFrame\n",
        "data = pd.read_csv('/content/drive/MyDrive/Colab Notebooks/Master Final Project/V2/vib_pyaudio_features.csv')\n",
        "\n",
        "# Define the feature columns (exclude the 'class' column)\n",
        "feature_columns = ['uhb_axial_mfcc_5', 'uhb_radiale_mfcc_8', 'uhb_radiale_mfcc_12',\n",
        "       'uhb_tangential_mfcc_13', 'ohb_axial_mfcc_5', 'ohb_axial_mfcc_6',\n",
        "       'ohb_axial_mfcc_8', 'ohb_tangential_mfcc_5', 'ohb_tangential_mfcc_9',\n",
        "       'ohb_tangential_mfcc_12']\n",
        "\n",
        "# Split the data into features (X) and target (y)\n",
        "X = data[feature_columns]\n",
        "y = data['class']\n",
        "\n",
        "# Split the data into training and testing sets\n",
        "X_train, X_test, y_train, y_test = train_test_split(X, y, test_size=0.3)\n",
        "\n",
        "# Create a KNN classifier with a specified number of neighbors (k)\n",
        "k = 4\n",
        "knn_classifier = KNeighborsClassifier(n_neighbors=k)\n",
        "\n",
        "# Fit the classifier on the training data\n",
        "knn_classifier.fit(X_train, y_train)\n",
        "\n",
        "# Make predictions on the test data\n",
        "y_pred = knn_classifier.predict(X_test)\n",
        "\n",
        "# Calculate accuracy\n",
        "accuracy = accuracy_score(y_test, y_pred)\n",
        "print(f\"Accuracy: {accuracy:.2f}\")\n",
        "\n",
        "report = classification_report(y_test, y_pred)\n",
        "print(report)"
      ]
    },
    {
      "cell_type": "markdown",
      "source": [
        "# Random Forest Classifier - Statistics Features\n",
        "\n"
      ],
      "metadata": {
        "id": "L1SuPDwNukoo"
      }
    },
    {
      "cell_type": "code",
      "source": [
        "import pandas as pd\n",
        "from sklearn.ensemble import RandomForestClassifier\n",
        "from sklearn.model_selection import train_test_split\n",
        "from sklearn.metrics import classification_report\n",
        "\n",
        "# Load your CSV file into a DataFrame\n",
        "data = pd.read_csv('/content/drive/MyDrive/Colab Notebooks/Master Final Project/V2/statistics_features.csv')"
      ],
      "metadata": {
        "id": "hQdgmJUO0GgC"
      },
      "execution_count": null,
      "outputs": []
    },
    {
      "cell_type": "code",
      "source": [
        "# Define the feature columns (exclude the 'class' column)\n",
        "feature_columns = ['uhb_axial_max', 'uhb_axial_min', 'uhb_radiale_max',\n",
        "       'uhb_tangential_min', 'ohb_axial_max', 'ohb_radiale_max',\n",
        "       'ohb_radiale_min', 'ohb_tangential_max', 'mic_std', 'mic_min']\n",
        "# Split the data into features (X) and target (y)\n",
        "X = data[feature_columns]\n",
        "y = data['class']\n",
        "\n",
        "# Split the data into training and testing sets\n",
        "X_train, X_test, y_train, y_test = train_test_split(X, y, test_size=0.3)\n",
        "\n",
        "# Create a Random Forest classifier with a specified number of trees (n_estimators)\n",
        "n_estimators = 10  # You can change this value\n",
        "random_forest_classifier = RandomForestClassifier(n_estimators=n_estimators)\n",
        "\n",
        "# Fit the classifier on the training data\n",
        "random_forest_classifier.fit(X_train, y_train)\n",
        "\n",
        "# Make predictions on the test data\n",
        "y_pred = random_forest_classifier.predict(X_test)\n",
        "\n",
        "# Generate a classification report\n",
        "report = classification_report(y_test, y_pred)\n",
        "\n",
        "# Calculate accuracy\n",
        "accuracy = accuracy_score(y_test, y_pred)\n",
        "print(f\"Accuracy: {accuracy:.2f}\")\n",
        "\n",
        "# Print the classification report\n",
        "print(report)"
      ],
      "metadata": {
        "colab": {
          "base_uri": "https://localhost:8080/"
        },
        "id": "JovD6qUmunuu",
        "outputId": "807fd01e-4f4e-4b9d-b5f3-427bd1c93ba9"
      },
      "execution_count": null,
      "outputs": [
        {
          "output_type": "stream",
          "name": "stdout",
          "text": [
            "Accuracy: 0.98\n",
            "              precision    recall  f1-score   support\n",
            "\n",
            "           0       1.00      1.00      1.00        19\n",
            "           1       1.00      1.00      1.00        14\n",
            "           2       0.93      1.00      0.96        13\n",
            "           3       1.00      0.93      0.96        14\n",
            "           4       1.00      1.00      1.00        16\n",
            "           5       1.00      0.93      0.96        14\n",
            "           6       0.94      1.00      0.97        16\n",
            "\n",
            "    accuracy                           0.98       106\n",
            "   macro avg       0.98      0.98      0.98       106\n",
            "weighted avg       0.98      0.98      0.98       106\n",
            "\n"
          ]
        }
      ]
    },
    {
      "cell_type": "markdown",
      "source": [
        "Testa o classificador treinado com outro conjunto de dados de teste"
      ],
      "metadata": {
        "id": "p3ZtgLXVfqQq"
      }
    },
    {
      "cell_type": "code",
      "source": [
        "# Load your teste CSV file into a DataFrame\n",
        "testData = pd.read_csv('/content/drive/MyDrive/Colab Notebooks/Master Final Project/V2/test_statistics_features.csv')\n",
        "\n",
        "# Split the data into features (X) and target (y)\n",
        "Xtest = testData[feature_columns]\n",
        "ytest = testData['class']\n",
        "\n",
        "# Make predictions on the test data\n",
        "y_pred = random_forest_classifier.predict(Xtest)\n",
        "\n",
        "# Generate a classification report\n",
        "report = classification_report(ytest, y_pred)\n",
        "\n",
        "# Calculate accuracy\n",
        "accuracy = accuracy_score(ytest, y_pred)\n",
        "print(f\"Accuracy: {accuracy:.2f}\")\n",
        "\n",
        "# Print the classification report\n",
        "print(report)"
      ],
      "metadata": {
        "colab": {
          "base_uri": "https://localhost:8080/"
        },
        "id": "GmKrPedIfp5X",
        "outputId": "9e90cce7-222c-4d77-ae4c-0219e19b3baa"
      },
      "execution_count": null,
      "outputs": [
        {
          "output_type": "stream",
          "name": "stdout",
          "text": [
            "Accuracy: 0.69\n",
            "              precision    recall  f1-score   support\n",
            "\n",
            "           0       0.56      1.00      0.71         5\n",
            "           1       0.78      0.50      0.61        14\n",
            "           2       0.86      0.75      0.80         8\n",
            "           3       0.75      1.00      0.86         6\n",
            "           4       0.83      0.38      0.53        13\n",
            "           5       0.53      0.82      0.64        11\n",
            "           6       0.83      1.00      0.91         5\n",
            "\n",
            "    accuracy                           0.69        62\n",
            "   macro avg       0.73      0.78      0.72        62\n",
            "weighted avg       0.74      0.69      0.68        62\n",
            "\n"
          ]
        }
      ]
    },
    {
      "cell_type": "markdown",
      "source": [
        "# Random Forest Classifier - Short-term Features\n",
        "\n"
      ],
      "metadata": {
        "id": "e5-N9_7xzq2z"
      }
    },
    {
      "cell_type": "code",
      "source": [
        "import pandas as pd\n",
        "from sklearn.ensemble import RandomForestClassifier\n",
        "from sklearn.model_selection import train_test_split\n",
        "from sklearn.metrics import classification_report\n",
        "\n",
        "# Load your CSV file into a DataFrame\n",
        "data = pd.read_csv('/content/drive/MyDrive/Colab Notebooks/Master Final Project/V2/vib_pyaudio_features.csv')\n",
        "data = shuffle(data)\n"
      ],
      "metadata": {
        "id": "WfEjzRnY3igH"
      },
      "execution_count": null,
      "outputs": []
    },
    {
      "cell_type": "code",
      "source": [
        "# Define the feature columns (exclude the 'class' column)\n",
        "feature_columns = ['uhb_radiale_mfcc_4', 'uhb_radiale_mfcc_8', 'uhb_radiale_mfcc_9',\n",
        "       'uhb_tangential_zcr', 'uhb_tangential_mfcc_10',\n",
        "       'uhb_tangential_mfcc_13', 'ohb_axial_mfcc_8', 'ohb_axial_mfcc_12',\n",
        "       'ohb_radiale_mfcc_3', 'ohb_radiale_mfcc_6', 'ohb_tangential_mfcc_3',\n",
        "       'ohb_tangential_mfcc_6', 'ohb_tangential_mfcc_7',\n",
        "       'ohb_tangential_mfcc_8', 'ohb_tangential_mfcc_12']\n",
        "# Split the data into features (X) and target (y)\n",
        "X = data[feature_columns]\n",
        "y = data['class']\n",
        "\n",
        "# Split the data into training and testing sets\n",
        "X_train, X_test, y_train, y_test = train_test_split(X, y, test_size=0.3)\n",
        "\n",
        "# Create a Random Forest classifier with a specified number of trees (n_estimators)\n",
        "n_estimators = 10  # You can change this value\n",
        "random_forest_classifier = RandomForestClassifier(n_estimators=n_estimators)\n",
        "\n",
        "# Fit the classifier on the training data\n",
        "random_forest_classifier.fit(X_train, y_train)\n",
        "\n",
        "# Make predictions on the test data\n",
        "y_pred = random_forest_classifier.predict(X_test)\n",
        "\n",
        "# Generate a classification report\n",
        "report = classification_report(y_test, y_pred)\n",
        "\n",
        "# Calculate accuracy\n",
        "accuracy = accuracy_score(y_test, y_pred)\n",
        "print(f\"Accuracy: {accuracy:.2f}\")\n",
        "\n",
        "# Print the classification report\n",
        "print(report)"
      ],
      "metadata": {
        "colab": {
          "base_uri": "https://localhost:8080/"
        },
        "outputId": "44ce4820-1278-47e5-8d11-db386105c85a",
        "id": "poJDfUrizq27"
      },
      "execution_count": null,
      "outputs": [
        {
          "output_type": "stream",
          "name": "stdout",
          "text": [
            "Accuracy: 0.93\n",
            "              precision    recall  f1-score   support\n",
            "\n",
            "           0       0.90      0.86      0.88        21\n",
            "           1       0.93      0.88      0.90        16\n",
            "           2       1.00      0.93      0.97        15\n",
            "           3       0.79      1.00      0.88        11\n",
            "           4       1.00      0.94      0.97        16\n",
            "           5       1.00      1.00      1.00        11\n",
            "           6       0.94      1.00      0.97        16\n",
            "\n",
            "    accuracy                           0.93       106\n",
            "   macro avg       0.94      0.94      0.94       106\n",
            "weighted avg       0.94      0.93      0.93       106\n",
            "\n"
          ]
        }
      ]
    },
    {
      "cell_type": "code",
      "source": [
        "# Load your test CSV file into a DataFrame\n",
        "test_data = pd.read_csv('/content/drive/MyDrive/Colab Notebooks/Master Final Project/V2/test_vib_pyaudio_features.csv')\n",
        "test_data = shuffle(test_data)\n",
        "\n",
        "# Split the data into features (X) and target (y)\n",
        "test_X = test_data[feature_columns]\n",
        "test_y = test_data['class']\n",
        "\n",
        "# Make predictions on the test data\n",
        "test_y_pred = random_forest_classifier.predict(test_X)\n",
        "\n",
        "# Generate a classification report\n",
        "test_report = classification_report(test_y, test_y_pred)\n",
        "\n",
        "# Print the classification report\n",
        "print(test_report)"
      ],
      "metadata": {
        "colab": {
          "base_uri": "https://localhost:8080/"
        },
        "id": "GiSnT8TmyLj3",
        "outputId": "3d6cf111-04e5-4365-f4b1-14045cbbfa96"
      },
      "execution_count": null,
      "outputs": [
        {
          "output_type": "stream",
          "name": "stdout",
          "text": [
            "              precision    recall  f1-score   support\n",
            "\n",
            "           0       1.00      1.00      1.00         5\n",
            "           1       1.00      0.71      0.83        14\n",
            "           2       1.00      1.00      1.00         8\n",
            "           3       0.60      1.00      0.75         6\n",
            "           4       1.00      1.00      1.00        13\n",
            "           5       0.79      1.00      0.88        11\n",
            "           6       1.00      0.40      0.57         5\n",
            "\n",
            "    accuracy                           0.89        62\n",
            "   macro avg       0.91      0.87      0.86        62\n",
            "weighted avg       0.92      0.89      0.88        62\n",
            "\n"
          ]
        }
      ]
    }
  ]
}
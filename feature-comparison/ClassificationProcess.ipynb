{
  "nbformat": 4,
  "nbformat_minor": 0,
  "metadata": {
    "colab": {
      "provenance": [],
      "authorship_tag": "ABX9TyMYe9LQqvUizGZkC+iVYf9g",
      "include_colab_link": true
    },
    "kernelspec": {
      "name": "python3",
      "display_name": "Python 3"
    },
    "language_info": {
      "name": "python"
    }
  },
  "cells": [
    {
      "cell_type": "markdown",
      "metadata": {
        "id": "view-in-github",
        "colab_type": "text"
      },
      "source": [
        "<a href=\"https://colab.research.google.com/github/rodriguessdeyson/feature-comparison/blob/master-artefacts/feature-comparison/ClassificationProcess.ipynb\" target=\"_parent\"><img src=\"https://colab.research.google.com/assets/colab-badge.svg\" alt=\"Open In Colab\"/></a>"
      ]
    },
    {
      "cell_type": "code",
      "source": [
        "import pandas as pd\n",
        "from sklearn.neighbors import KNeighborsClassifier\n",
        "from sklearn.model_selection import train_test_split\n",
        "from sklearn.metrics import accuracy_score\n",
        "from sklearn.metrics import classification_report\n",
        "from google.colab import drive\n",
        "import os\n",
        "from sklearn.metrics import confusion_matrix\n",
        "from sklearn.utils import shuffle\n",
        "\n",
        "# Incializa o serviço do Google Drive.\n",
        "drive.mount('/content/drive')"
      ],
      "metadata": {
        "id": "UkmeOvGRrU1E"
      },
      "execution_count": null,
      "outputs": []
    },
    {
      "cell_type": "markdown",
      "source": [
        "#KNN"
      ],
      "metadata": {
        "id": "JMwtebzxqxrc"
      }
    },
    {
      "cell_type": "code",
      "execution_count": null,
      "metadata": {
        "id": "UrN_kHbjqbs5"
      },
      "outputs": [],
      "source": [
        "# Load your CSV file into a DataFrame\n",
        "data = pd.read_csv('/content/drive/MyDrive/Colab Notebooks/Master Final Project/V2/vib_pyaudio_features.csv')\n",
        "\n",
        "# Define the feature columns (exclude the 'class' column)\n",
        "feature_columns = ['uhb_axial_mfcc_5', 'uhb_radiale_mfcc_8', 'uhb_radiale_mfcc_12',\n",
        "       'uhb_tangential_mfcc_13', 'ohb_axial_mfcc_5', 'ohb_axial_mfcc_6',\n",
        "       'ohb_axial_mfcc_8', 'ohb_tangential_mfcc_5', 'ohb_tangential_mfcc_9',\n",
        "       'ohb_tangential_mfcc_12']\n",
        "\n",
        "# Split the data into features (X) and target (y)\n",
        "X = data[feature_columns]\n",
        "y = data['class']\n",
        "\n",
        "# Split the data into training and testing sets\n",
        "X_train, X_test, y_train, y_test = train_test_split(X, y, test_size=0.3)\n",
        "\n",
        "# Create a KNN classifier with a specified number of neighbors (k)\n",
        "k = 4\n",
        "knn_classifier = KNeighborsClassifier(n_neighbors=k)\n",
        "\n",
        "# Fit the classifier on the training data\n",
        "knn_classifier.fit(X_train, y_train)\n",
        "\n",
        "# Make predictions on the test data\n",
        "y_pred = knn_classifier.predict(X_test)\n",
        "\n",
        "# Calculate accuracy\n",
        "accuracy = accuracy_score(y_test, y_pred)\n",
        "print(f\"Accuracy: {accuracy:.2f}\")\n",
        "\n",
        "report = classification_report(y_test, y_pred)\n",
        "print(report)"
      ]
    },
    {
      "cell_type": "markdown",
      "source": [
        "# Random Forest Classifier - Statistics Features\n",
        "\n"
      ],
      "metadata": {
        "id": "L1SuPDwNukoo"
      }
    },
    {
      "cell_type": "code",
      "source": [
        "import pandas as pd\n",
        "from sklearn.ensemble import RandomForestClassifier\n",
        "from sklearn.model_selection import train_test_split\n",
        "from sklearn.metrics import classification_report\n",
        "\n",
        "# Load your CSV file into a DataFrame\n",
        "data = pd.read_csv('/content/drive/MyDrive/Colab Notebooks/Master Final Project/V2/statistics_features.csv')"
      ],
      "metadata": {
        "id": "hQdgmJUO0GgC"
      },
      "execution_count": null,
      "outputs": []
    },
    {
      "cell_type": "code",
      "source": [
        "# Define the feature columns (exclude the 'class' column)\n",
        "feature_columns = ['uhb_axial_max', 'uhb_axial_min', 'uhb_radiale_max',\n",
        "       'uhb_tangential_min', 'ohb_axial_max', 'ohb_radiale_max',\n",
        "       'ohb_radiale_min', 'ohb_tangential_max', 'mic_std', 'mic_min']\n",
        "# Split the data into features (X) and target (y)\n",
        "X = data[feature_columns]\n",
        "y = data['class']\n",
        "\n",
        "# Split the data into training and testing sets\n",
        "X_train, X_test, y_train, y_test = train_test_split(X, y, test_size=0.3)\n",
        "\n",
        "# Create a Random Forest classifier with a specified number of trees (n_estimators)\n",
        "n_estimators = 10  # You can change this value\n",
        "random_forest_classifier = RandomForestClassifier(n_estimators=n_estimators)\n",
        "\n",
        "# Fit the classifier on the training data\n",
        "random_forest_classifier.fit(X_train, y_train)\n",
        "\n",
        "# Make predictions on the test data\n",
        "y_pred = random_forest_classifier.predict(X_test)\n",
        "\n",
        "# Generate a classification report\n",
        "report = classification_report(y_test, y_pred)\n",
        "\n",
        "# Calculate accuracy\n",
        "accuracy = accuracy_score(y_test, y_pred)\n",
        "print(f\"Accuracy: {accuracy:.2f}\")\n",
        "\n",
        "# Print the classification report\n",
        "print(report)"
      ],
      "metadata": {
        "id": "JovD6qUmunuu"
      },
      "execution_count": null,
      "outputs": []
    },
    {
      "cell_type": "markdown",
      "source": [
        "Testa o classificador treinado com outro conjunto de dados de teste"
      ],
      "metadata": {
        "id": "p3ZtgLXVfqQq"
      }
    },
    {
      "cell_type": "code",
      "source": [
        "# Load your teste CSV file into a DataFrame\n",
        "testData = pd.read_csv('/content/drive/MyDrive/Colab Notebooks/Master Final Project/V2/test_statistics_features.csv')\n",
        "\n",
        "# Split the data into features (X) and target (y)\n",
        "Xtest = testData[feature_columns]\n",
        "ytest = testData['class']\n",
        "\n",
        "# Make predictions on the test data\n",
        "y_pred = random_forest_classifier.predict(Xtest)\n",
        "\n",
        "# Generate a classification report\n",
        "report = classification_report(ytest, y_pred)\n",
        "\n",
        "# Calculate accuracy\n",
        "accuracy = accuracy_score(ytest, y_pred)\n",
        "print(f\"Accuracy: {accuracy:.2f}\")\n",
        "\n",
        "# Print the classification report\n",
        "print(report)"
      ],
      "metadata": {
        "id": "GmKrPedIfp5X"
      },
      "execution_count": null,
      "outputs": []
    },
    {
      "cell_type": "markdown",
      "source": [
        "# Random Forest Classifier - Short-term Features\n",
        "\n"
      ],
      "metadata": {
        "id": "e5-N9_7xzq2z"
      }
    },
    {
      "cell_type": "code",
      "source": [
        "import pandas as pd\n",
        "from sklearn.ensemble import RandomForestClassifier\n",
        "from sklearn.model_selection import train_test_split\n",
        "from sklearn.metrics import classification_report\n",
        "\n",
        "# Load your CSV file into a DataFrame\n",
        "data = pd.read_csv('/content/drive/MyDrive/Colab Notebooks/Master Final Project/V2/vib_pyaudio_features.csv')\n",
        "data = shuffle(data)\n"
      ],
      "metadata": {
        "id": "WfEjzRnY3igH"
      },
      "execution_count": null,
      "outputs": []
    },
    {
      "cell_type": "code",
      "source": [
        "# Define the feature columns (exclude the 'class' column)\n",
        "feature_columns = ['uhb_radiale_mfcc_4', 'uhb_radiale_mfcc_8', 'uhb_radiale_mfcc_9',\n",
        "       'uhb_tangential_zcr', 'uhb_tangential_mfcc_10',\n",
        "       'uhb_tangential_mfcc_13', 'ohb_axial_mfcc_8', 'ohb_axial_mfcc_12',\n",
        "       'ohb_radiale_mfcc_3', 'ohb_radiale_mfcc_6', 'ohb_tangential_mfcc_3',\n",
        "       'ohb_tangential_mfcc_6', 'ohb_tangential_mfcc_7',\n",
        "       'ohb_tangential_mfcc_8', 'ohb_tangential_mfcc_12']\n",
        "# Split the data into features (X) and target (y)\n",
        "X = data[feature_columns]\n",
        "y = data['class']\n",
        "\n",
        "# Split the data into training and testing sets\n",
        "X_train, X_test, y_train, y_test = train_test_split(X, y, test_size=0.3)\n",
        "\n",
        "# Create a Random Forest classifier with a specified number of trees (n_estimators)\n",
        "n_estimators = 10  # You can change this value\n",
        "random_forest_classifier = RandomForestClassifier(n_estimators=n_estimators)\n",
        "\n",
        "# Fit the classifier on the training data\n",
        "random_forest_classifier.fit(X_train, y_train)\n",
        "\n",
        "# Make predictions on the test data\n",
        "y_pred = random_forest_classifier.predict(X_test)\n",
        "\n",
        "# Generate a classification report\n",
        "report = classification_report(y_test, y_pred)\n",
        "\n",
        "# Calculate accuracy\n",
        "accuracy = accuracy_score(y_test, y_pred)\n",
        "print(f\"Accuracy: {accuracy:.2f}\")\n",
        "\n",
        "# Print the classification report\n",
        "print(report)"
      ],
      "metadata": {
        "id": "poJDfUrizq27"
      },
      "execution_count": null,
      "outputs": []
    },
    {
      "cell_type": "code",
      "source": [
        "# Load your test CSV file into a DataFrame\n",
        "test_data = pd.read_csv('/content/drive/MyDrive/Colab Notebooks/Master Final Project/V2/test_vib_pyaudio_features.csv')\n",
        "test_data = shuffle(test_data)\n",
        "\n",
        "# Split the data into features (X) and target (y)\n",
        "test_X = test_data[feature_columns]\n",
        "test_y = test_data['class']\n",
        "\n",
        "# Make predictions on the test data\n",
        "test_y_pred = random_forest_classifier.predict(test_X)\n",
        "\n",
        "# Generate a classification report\n",
        "test_report = classification_report(test_y, test_y_pred)\n",
        "\n",
        "# Print the classification report\n",
        "print(test_report)"
      ],
      "metadata": {
        "id": "GiSnT8TmyLj3"
      },
      "execution_count": null,
      "outputs": []
    }
  ]
}